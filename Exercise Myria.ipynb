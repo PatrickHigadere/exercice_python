{
 "cells": [
  {
   "cell_type": "markdown",
   "id": "95760a31",
   "metadata": {},
   "source": [
    "Bonjour,\n",
    "\n",
    "A l'aide de Python, tu devras réaliser les exercices décrits ci-dessous.\n",
    "\n",
    "Bonne chance !!"
   ]
  },
  {
   "cell_type": "markdown",
   "id": "167214ae",
   "metadata": {},
   "source": [
    "# I - Portfolio analysis"
   ]
  },
  {
   "cell_type": "markdown",
   "id": "8182fcb6",
   "metadata": {},
   "source": [
    "## Download and import library mstarpy\n",
    "https://pypi.org/project/mstarpy/"
   ]
  },
  {
   "cell_type": "markdown",
   "id": "78e955ef",
   "metadata": {},
   "source": [
    "We downloaded for you the last portfolio of MYRIA ACTIONS DURABLES EUROPE (FR0013028339) with the library mstarpy. Your next goal is to analyse this portfolio <i>df</i> in DataFrame format with pandas."
   ]
  },
  {
   "cell_type": "code",
   "execution_count": 1,
   "id": "1678a7d5",
   "metadata": {},
   "outputs": [],
   "source": [
    "import mstarpy"
   ]
  },
  {
   "cell_type": "code",
   "execution_count": 2,
   "id": "63987f35",
   "metadata": {},
   "outputs": [],
   "source": [
    "funds = mstarpy.Funds(\"FR0013028339\", country=\"fr\")"
   ]
  },
  {
   "cell_type": "code",
   "execution_count": 3,
   "id": "53090c1d",
   "metadata": {},
   "outputs": [],
   "source": [
    "df = funds.holdings()"
   ]
  },
  {
   "cell_type": "markdown",
   "id": "5c27f7ba",
   "metadata": {},
   "source": [
    "## 5 first rows ordered by descending Weights (column : \"weighting\")"
   ]
  },
  {
   "cell_type": "code",
   "execution_count": 4,
   "id": "176c316c",
   "metadata": {},
   "outputs": [
    {
     "data": {
      "text/html": [
       "<div>\n",
       "<style scoped>\n",
       "    .dataframe tbody tr th:only-of-type {\n",
       "        vertical-align: middle;\n",
       "    }\n",
       "\n",
       "    .dataframe tbody tr th {\n",
       "        vertical-align: top;\n",
       "    }\n",
       "\n",
       "    .dataframe thead th {\n",
       "        text-align: right;\n",
       "    }\n",
       "</style>\n",
       "<table border=\"1\" class=\"dataframe\">\n",
       "  <thead>\n",
       "    <tr style=\"text-align: right;\">\n",
       "      <th></th>\n",
       "      <th>securityName</th>\n",
       "      <th>secId</th>\n",
       "      <th>performanceId</th>\n",
       "      <th>holdingTypeId</th>\n",
       "      <th>weighting</th>\n",
       "      <th>numberOfShare</th>\n",
       "      <th>marketValue</th>\n",
       "      <th>shareChange</th>\n",
       "      <th>country</th>\n",
       "      <th>ticker</th>\n",
       "      <th>...</th>\n",
       "      <th>totalAssetsMagnitude</th>\n",
       "      <th>lastTurnoverRatio</th>\n",
       "      <th>susEsgRiskScore</th>\n",
       "      <th>susEsgRiskGlobes</th>\n",
       "      <th>esgAsOfDate</th>\n",
       "      <th>susEsgRiskCategory</th>\n",
       "      <th>qualRating</th>\n",
       "      <th>quantRating</th>\n",
       "      <th>bestRatingType</th>\n",
       "      <th>securityType</th>\n",
       "    </tr>\n",
       "  </thead>\n",
       "  <tbody>\n",
       "    <tr>\n",
       "      <th>0</th>\n",
       "      <td>Nestle SA</td>\n",
       "      <td>0P0000A5EE</td>\n",
       "      <td>0P0000A5EE</td>\n",
       "      <td>E</td>\n",
       "      <td>6.64513</td>\n",
       "      <td>26118.0</td>\n",
       "      <td>3052615.0</td>\n",
       "      <td>0.0</td>\n",
       "      <td>Switzerland</td>\n",
       "      <td>None</td>\n",
       "      <td>...</td>\n",
       "      <td>None</td>\n",
       "      <td>None</td>\n",
       "      <td>24.1311</td>\n",
       "      <td>3.0</td>\n",
       "      <td>2022-09-07T05:00:00.000</td>\n",
       "      <td>Medium</td>\n",
       "      <td>3</td>\n",
       "      <td>3</td>\n",
       "      <td>Qual</td>\n",
       "      <td>ST</td>\n",
       "    </tr>\n",
       "    <tr>\n",
       "      <th>1</th>\n",
       "      <td>Roche Holding AG</td>\n",
       "      <td>0P0000AZ48</td>\n",
       "      <td>0P0000AZ48</td>\n",
       "      <td>E</td>\n",
       "      <td>4.84293</td>\n",
       "      <td>6915.0</td>\n",
       "      <td>2224729.0</td>\n",
       "      <td>0.0</td>\n",
       "      <td>Switzerland</td>\n",
       "      <td>None</td>\n",
       "      <td>...</td>\n",
       "      <td>None</td>\n",
       "      <td>None</td>\n",
       "      <td>23.5296</td>\n",
       "      <td>3.0</td>\n",
       "      <td>2022-09-07T05:00:00.000</td>\n",
       "      <td>Medium</td>\n",
       "      <td>5</td>\n",
       "      <td>4</td>\n",
       "      <td>Qual</td>\n",
       "      <td>ST</td>\n",
       "    </tr>\n",
       "    <tr>\n",
       "      <th>2</th>\n",
       "      <td>ASML Holding NV</td>\n",
       "      <td>0P0000ALDL</td>\n",
       "      <td>0P0000ALDL</td>\n",
       "      <td>E</td>\n",
       "      <td>4.15044</td>\n",
       "      <td>3934.0</td>\n",
       "      <td>1906613.0</td>\n",
       "      <td>-258.0</td>\n",
       "      <td>Netherlands</td>\n",
       "      <td>None</td>\n",
       "      <td>...</td>\n",
       "      <td>None</td>\n",
       "      <td>None</td>\n",
       "      <td>10.9124</td>\n",
       "      <td>4.0</td>\n",
       "      <td>2022-09-07T05:00:00.000</td>\n",
       "      <td>Low</td>\n",
       "      <td>4</td>\n",
       "      <td>3</td>\n",
       "      <td>Qual</td>\n",
       "      <td>ST</td>\n",
       "    </tr>\n",
       "    <tr>\n",
       "      <th>3</th>\n",
       "      <td>Novartis AG</td>\n",
       "      <td>0P0000A5FH</td>\n",
       "      <td>0P0000A5FH</td>\n",
       "      <td>E</td>\n",
       "      <td>3.89021</td>\n",
       "      <td>22140.0</td>\n",
       "      <td>1787072.0</td>\n",
       "      <td>0.0</td>\n",
       "      <td>Switzerland</td>\n",
       "      <td>None</td>\n",
       "      <td>...</td>\n",
       "      <td>None</td>\n",
       "      <td>None</td>\n",
       "      <td>17.2337</td>\n",
       "      <td>4.0</td>\n",
       "      <td>2022-09-07T05:00:00.000</td>\n",
       "      <td>Low</td>\n",
       "      <td>4</td>\n",
       "      <td>4</td>\n",
       "      <td>Qual</td>\n",
       "      <td>ST</td>\n",
       "    </tr>\n",
       "    <tr>\n",
       "      <th>4</th>\n",
       "      <td>LVMH Moet Hennessy Louis Vuitton SE</td>\n",
       "      <td>0P00009WL3</td>\n",
       "      <td>0P00009WL3</td>\n",
       "      <td>E</td>\n",
       "      <td>3.67462</td>\n",
       "      <td>2607.0</td>\n",
       "      <td>1688032.0</td>\n",
       "      <td>0.0</td>\n",
       "      <td>France</td>\n",
       "      <td>None</td>\n",
       "      <td>...</td>\n",
       "      <td>None</td>\n",
       "      <td>None</td>\n",
       "      <td>12.3830</td>\n",
       "      <td>4.0</td>\n",
       "      <td>2022-09-07T05:00:00.000</td>\n",
       "      <td>Low</td>\n",
       "      <td>2</td>\n",
       "      <td>2</td>\n",
       "      <td>Qual</td>\n",
       "      <td>ST</td>\n",
       "    </tr>\n",
       "  </tbody>\n",
       "</table>\n",
       "<p>5 rows × 47 columns</p>\n",
       "</div>"
      ],
      "text/plain": [
       "                          securityName       secId performanceId  \\\n",
       "0                            Nestle SA  0P0000A5EE    0P0000A5EE   \n",
       "1                     Roche Holding AG  0P0000AZ48    0P0000AZ48   \n",
       "2                      ASML Holding NV  0P0000ALDL    0P0000ALDL   \n",
       "3                          Novartis AG  0P0000A5FH    0P0000A5FH   \n",
       "4  LVMH Moet Hennessy Louis Vuitton SE  0P00009WL3    0P00009WL3   \n",
       "\n",
       "  holdingTypeId  weighting  numberOfShare  marketValue  shareChange  \\\n",
       "0             E    6.64513        26118.0    3052615.0          0.0   \n",
       "1             E    4.84293         6915.0    2224729.0          0.0   \n",
       "2             E    4.15044         3934.0    1906613.0       -258.0   \n",
       "3             E    3.89021        22140.0    1787072.0          0.0   \n",
       "4             E    3.67462         2607.0    1688032.0          0.0   \n",
       "\n",
       "       country ticker  ...  totalAssetsMagnitude  lastTurnoverRatio  \\\n",
       "0  Switzerland   None  ...                  None               None   \n",
       "1  Switzerland   None  ...                  None               None   \n",
       "2  Netherlands   None  ...                  None               None   \n",
       "3  Switzerland   None  ...                  None               None   \n",
       "4       France   None  ...                  None               None   \n",
       "\n",
       "  susEsgRiskScore susEsgRiskGlobes              esgAsOfDate  \\\n",
       "0         24.1311              3.0  2022-09-07T05:00:00.000   \n",
       "1         23.5296              3.0  2022-09-07T05:00:00.000   \n",
       "2         10.9124              4.0  2022-09-07T05:00:00.000   \n",
       "3         17.2337              4.0  2022-09-07T05:00:00.000   \n",
       "4         12.3830              4.0  2022-09-07T05:00:00.000   \n",
       "\n",
       "  susEsgRiskCategory qualRating quantRating bestRatingType securityType  \n",
       "0             Medium          3           3           Qual           ST  \n",
       "1             Medium          5           4           Qual           ST  \n",
       "2                Low          4           3           Qual           ST  \n",
       "3                Low          4           4           Qual           ST  \n",
       "4                Low          2           2           Qual           ST  \n",
       "\n",
       "[5 rows x 47 columns]"
      ]
     },
     "execution_count": 4,
     "metadata": {},
     "output_type": "execute_result"
    }
   ],
   "source": []
  },
  {
   "cell_type": "markdown",
   "id": "e6e43c9b",
   "metadata": {},
   "source": [
    "## Sum of market value (column \"marketValue\")"
   ]
  },
  {
   "cell_type": "code",
   "execution_count": 5,
   "id": "8b6c0a23",
   "metadata": {},
   "outputs": [
    {
     "data": {
      "text/plain": [
       "45937630.0"
      ]
     },
     "execution_count": 5,
     "metadata": {},
     "output_type": "execute_result"
    }
   ],
   "source": []
  },
  {
   "cell_type": "markdown",
   "id": "4227fba1",
   "metadata": {},
   "source": [
    "## Grouping : sum of weights by sectors  (column = sector, weighting)"
   ]
  },
  {
   "cell_type": "code",
   "execution_count": 6,
   "id": "d1fb684a",
   "metadata": {},
   "outputs": [
    {
     "data": {
      "text/html": [
       "<div>\n",
       "<style scoped>\n",
       "    .dataframe tbody tr th:only-of-type {\n",
       "        vertical-align: middle;\n",
       "    }\n",
       "\n",
       "    .dataframe tbody tr th {\n",
       "        vertical-align: top;\n",
       "    }\n",
       "\n",
       "    .dataframe thead th {\n",
       "        text-align: right;\n",
       "    }\n",
       "</style>\n",
       "<table border=\"1\" class=\"dataframe\">\n",
       "  <thead>\n",
       "    <tr style=\"text-align: right;\">\n",
       "      <th></th>\n",
       "      <th>sector</th>\n",
       "      <th>weighting</th>\n",
       "    </tr>\n",
       "  </thead>\n",
       "  <tbody>\n",
       "    <tr>\n",
       "      <th>0</th>\n",
       "      <td>Basic Materials</td>\n",
       "      <td>7.81728</td>\n",
       "    </tr>\n",
       "    <tr>\n",
       "      <th>1</th>\n",
       "      <td>Communication Services</td>\n",
       "      <td>3.72118</td>\n",
       "    </tr>\n",
       "    <tr>\n",
       "      <th>2</th>\n",
       "      <td>Consumer Cyclical</td>\n",
       "      <td>11.72203</td>\n",
       "    </tr>\n",
       "    <tr>\n",
       "      <th>3</th>\n",
       "      <td>Consumer Defensive</td>\n",
       "      <td>11.75798</td>\n",
       "    </tr>\n",
       "    <tr>\n",
       "      <th>4</th>\n",
       "      <td>Energy</td>\n",
       "      <td>4.38516</td>\n",
       "    </tr>\n",
       "    <tr>\n",
       "      <th>5</th>\n",
       "      <td>Financial Services</td>\n",
       "      <td>14.45281</td>\n",
       "    </tr>\n",
       "    <tr>\n",
       "      <th>6</th>\n",
       "      <td>Healthcare</td>\n",
       "      <td>17.91633</td>\n",
       "    </tr>\n",
       "    <tr>\n",
       "      <th>7</th>\n",
       "      <td>Industrials</td>\n",
       "      <td>13.03101</td>\n",
       "    </tr>\n",
       "    <tr>\n",
       "      <th>8</th>\n",
       "      <td>Technology</td>\n",
       "      <td>7.55863</td>\n",
       "    </tr>\n",
       "    <tr>\n",
       "      <th>9</th>\n",
       "      <td>Utilities</td>\n",
       "      <td>4.36014</td>\n",
       "    </tr>\n",
       "  </tbody>\n",
       "</table>\n",
       "</div>"
      ],
      "text/plain": [
       "                   sector  weighting\n",
       "0         Basic Materials    7.81728\n",
       "1  Communication Services    3.72118\n",
       "2       Consumer Cyclical   11.72203\n",
       "3      Consumer Defensive   11.75798\n",
       "4                  Energy    4.38516\n",
       "5      Financial Services   14.45281\n",
       "6              Healthcare   17.91633\n",
       "7             Industrials   13.03101\n",
       "8              Technology    7.55863\n",
       "9               Utilities    4.36014"
      ]
     },
     "execution_count": 6,
     "metadata": {},
     "output_type": "execute_result"
    }
   ],
   "source": []
  },
  {
   "cell_type": "markdown",
   "id": "5fdc06a7",
   "metadata": {},
   "source": [
    "## import matplotlib"
   ]
  },
  {
   "cell_type": "code",
   "execution_count": 7,
   "id": "f444e3f7",
   "metadata": {},
   "outputs": [],
   "source": []
  },
  {
   "cell_type": "markdown",
   "id": "29ba048f",
   "metadata": {},
   "source": [
    "## Bar chart with the grouped DataFrame done above : sum of weights by sectors"
   ]
  },
  {
   "cell_type": "code",
   "execution_count": 8,
   "id": "14470b52",
   "metadata": {},
   "outputs": [
    {
     "data": {
      "text/plain": [
       "<BarContainer object of 10 artists>"
      ]
     },
     "execution_count": 8,
     "metadata": {},
     "output_type": "execute_result"
    },
    {
     "data": {
      "image/png": "[encoded data removed]",
      "text/plain": [
       "<Figure size 432x288 with 1 Axes>"
      ]
     },
     "metadata": {
      "needs_background": "light"
     },
     "output_type": "display_data"
    }
   ],
   "source": []
  },
  {
   "cell_type": "markdown",
   "id": "a242ca5d",
   "metadata": {},
   "source": [
    "# II - OOP"
   ]
  },
  {
   "cell_type": "markdown",
   "id": "bd8a5053",
   "metadata": {},
   "source": [
    "Create a class named CAPM which takes the parameters rm (expected return of the market, a float), rf (risk free rate, a float) and an optional parameter beta with default value = 1.\n",
    "\n",
    "The class CAPM has a method named expected_return with no arguments which returns the expected return of the asset with the CAPM model."
   ]
  },
  {
   "cell_type": "code",
   "execution_count": 9,
   "id": "3f5289a0",
   "metadata": {},
   "outputs": [],
   "source": [
    "\n",
    "        "
   ]
  },
  {
   "cell_type": "code",
   "execution_count": 10,
   "id": "7f748f5d",
   "metadata": {},
   "outputs": [],
   "source": [
    "cl = CAPM(0.1, 0.02, beta = 0.95)"
   ]
  },
  {
   "cell_type": "code",
   "execution_count": 11,
   "id": "0b339343",
   "metadata": {},
   "outputs": [
    {
     "data": {
      "text/plain": [
       "0.096"
      ]
     },
     "execution_count": 11,
     "metadata": {},
     "output_type": "execute_result"
    }
   ],
   "source": [
    "cl.expected_return()"
   ]
  },
  {
   "cell_type": "markdown",
   "id": "c4e7c4e0",
   "metadata": {},
   "source": [
    "Create a class named MultiFactor which inherits from the class CAPM.\n",
    "\n",
    "hint : the arguments of the class MultiFactor are the same as the class CAPM.\n",
    "\n",
    "The class MultiFactor has a method named multi_regression which take the parameters betas (betas of the factors, list of float), factors (values of the factors, list of float) and a optional parameter alpha with default value = 0.\n",
    "\n",
    "hint: the length of list betas and list factors has to be equal.\n",
    "\n",
    "The method multi_regression returns the expect return of the asset calculated by adding expected_return of the class CAPM +  betas * factors + alpha."
   ]
  },
  {
   "cell_type": "code",
   "execution_count": null,
   "id": "6e4d6dd5",
   "metadata": {},
   "outputs": [],
   "source": []
  },
  {
   "cell_type": "code",
   "execution_count": 13,
   "id": "a4764f91",
   "metadata": {},
   "outputs": [],
   "source": [
    "cl = MultiFactor(0.1, 0.02, beta = 0.95)"
   ]
  },
  {
   "cell_type": "code",
   "execution_count": 24,
   "id": "cecfb763",
   "metadata": {},
   "outputs": [
    {
     "data": {
      "text/plain": [
       "0.09000000000000002"
      ]
     },
     "execution_count": 24,
     "metadata": {},
     "output_type": "execute_result"
    }
   ],
   "source": [
    "cl.multi_regression(betas= [1, 0.8, 0.6], factors= [0.05, 0.08, -0.2])"
   ]
  }
 ],
 "metadata": {
  "kernelspec": {
   "display_name": "Python 3 (ipykernel)",
   "language": "python",
   "name": "python3"
  },
  "language_info": {
   "codemirror_mode": {
    "name": "ipython",
    "version": 3
   },
   "file_extension": ".py",
   "mimetype": "text/x-python",
   "name": "python",
   "nbconvert_exporter": "python",
   "pygments_lexer": "ipython3",
   "version": "3.10.6"
  }
 },
 "nbformat": 4,
 "nbformat_minor": 5
}
